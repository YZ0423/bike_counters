{
 "cells": [
  {
   "cell_type": "code",
   "execution_count": 1,
   "metadata": {},
   "outputs": [],
   "source": [
    "from problem import get_train_data, get_test_data, get_cv\n",
    "from estimator import get_estimator, _encode_dates\n",
    "from sklearn.metrics import mean_squared_error\n",
    "\n",
    "import numpy as np\n",
    "import pandas as pd"
   ]
  },
  {
   "cell_type": "code",
   "execution_count": 2,
   "metadata": {},
   "outputs": [],
   "source": [
    "X, y = get_train_data()\n",
    "X_test = get_test_data()"
   ]
  },
  {
   "cell_type": "code",
   "execution_count": 10,
   "metadata": {},
   "outputs": [
    {
     "name": "stdout",
     "output_type": "stream",
     "text": [
      "[0.9830995443789179, 0.8425639097997596, 0.8864241854952701, 0.8552019683883316, 0.79445859105967, 0.9590510231015409, 1.134824484135476, 0.9006191728228705]\n"
     ]
    }
   ],
   "source": [
    "pipeline = get_estimator() # Ridge Regression\n",
    "scores = []\n",
    "\n",
    "# Iterate over the generator to get train and validation indices for each fold\n",
    "for train_idx, val_idx in get_cv(X, y, random_state=1):\n",
    "    # Split your data into training and testing sets using the indices\n",
    "    X_train, X_val = X.iloc[train_idx], X.iloc[val_idx]\n",
    "    y_train, y_val = y[train_idx], y[val_idx]\n",
    "\n",
    "    # Fit the model on the training set\n",
    "    pipeline.fit(X_train, y_train)\n",
    "\n",
    "    # Evaluate the model on the testing set and store the score\n",
    "    y_pred = pipeline.predict(X_val)\n",
    "    score = mean_squared_error(y_val, y_pred, squared=False)\n",
    "    scores.append(score)\n",
    "    \n",
    "# Output the performance metric (e.g., mean squared error)\n",
    "print(scores)"
   ]
  },
  {
   "cell_type": "code",
   "execution_count": 22,
   "metadata": {
    "tags": []
   },
   "outputs": [
    {
     "name": "stdout",
     "output_type": "stream",
     "text": [
      "[1.29332485 1.19739303 0.97441649 ... 3.13061337 2.22971823 2.74832825]\n"
     ]
    }
   ],
   "source": [
    "y_preds = []\n",
    "\n",
    "for train_idx, val_idx in get_cv(X, y, random_state=1):\n",
    "    # Split your data into training and testing sets using the indices\n",
    "    X_train, X_val = X.iloc[train_idx], X.iloc[val_idx]\n",
    "    y_train, y_val = y[train_idx], y[val_idx]\n",
    "\n",
    "    # Fit the model on the training set\n",
    "    pipeline.fit(X_train, y_train)\n",
    "\n",
    "    # Evaluate the model on the testing set and store the score\n",
    "    y_pred = pipeline.predict(X_test)\n",
    "    y_preds.append(y_pred)\n",
    "    \n",
    "# Output the performance metric (e.g., mean squared error)\n",
    "y_pred = np.mean(y_preds, axis=0)\n",
    "print(y_pred)"
   ]
  },
  {
   "cell_type": "code",
   "execution_count": 23,
   "metadata": {},
   "outputs": [],
   "source": [
    "results = pd.DataFrame(\n",
    "    dict(\n",
    "        Id=np.arange(y_pred.shape[0]),\n",
    "        log_bike_count=y_pred,\n",
    "    )\n",
    ")\n",
    "results.to_csv(\"submission.csv\", index=False)\n"
   ]
  }
 ],
 "metadata": {
  "kernelspec": {
   "display_name": "Python 3 (ipykernel)",
   "language": "python",
   "name": "python3"
  },
  "language_info": {
   "codemirror_mode": {
    "name": "ipython",
    "version": 3
   },
   "file_extension": ".py",
   "mimetype": "text/x-python",
   "name": "python",
   "nbconvert_exporter": "python",
   "pygments_lexer": "ipython3",
   "version": "3.11.3"
  }
 },
 "nbformat": 4,
 "nbformat_minor": 4
}
